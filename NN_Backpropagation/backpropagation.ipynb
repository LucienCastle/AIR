{
 "cells": [
  {
   "cell_type": "code",
   "execution_count": 1,
   "metadata": {},
   "outputs": [],
   "source": [
    "import numpy as np"
   ]
  },
  {
   "cell_type": "code",
   "execution_count": 2,
   "metadata": {},
   "outputs": [],
   "source": [
    "def define_structure_of_NN(features, labels):\n",
    "    '''\n",
    "    Defines the structure of neural network with input layer, hidden layer and output layer\n",
    "    \n",
    "    :params\n",
    "     features : number of features in the dataset\n",
    "     labels   : corresponding labels of the features\n",
    "    \n",
    "    :return\n",
    "     input_units : number of units in input layer\n",
    "     hidden_units: number of units in hidden layers\n",
    "     output_units: number of units in output layer\n",
    "    '''\n",
    "    input_units = features.shape[0] \n",
    "    hidden_units = 2 \n",
    "    output_units = labels.shape[0]\n",
    "    return (input_units, hidden_units, output_units)"
   ]
  },
  {
   "cell_type": "code",
   "execution_count": 3,
   "metadata": {},
   "outputs": [],
   "source": [
    "def parameter_initialization(input_units, hidden_units, output_units):\n",
    "    '''\n",
    "    Initializes the weight matrices and bias vectors\n",
    "    \n",
    "    :parma\n",
    "     input_units : number of units in input layer\n",
    "     hidden_units: number of units in hidden layers\n",
    "     output_units: number of units in output layer\n",
    "     \n",
    "    :return\n",
    "     parameters : parameters of the neural net\n",
    "    '''\n",
    "    W1 = np.ones([hidden_units, input_units])\n",
    "    b1 = np.zeros((hidden_units, 1))\n",
    "    W2 = np.ones([output_units, hidden_units])\n",
    "    b2 = np.zeros((output_units, 1))\n",
    "    parameters = {\"W1\": W1, \"b1\": b1, \"W2\": W2, \"b2\": b2}\n",
    "    print('Initial W11 :\\n',W1[0][0])\n",
    "    \n",
    "    return parameters"
   ]
  },
  {
   "cell_type": "code",
   "execution_count": 4,
   "metadata": {},
   "outputs": [],
   "source": [
    "def forward_propagation(X, parameters):\n",
    "    '''\n",
    "    given the set of input features (X), we need to compute the activation function for each layer\n",
    "    \n",
    "    :params\n",
    "     X          : input features\n",
    "     parameters : weights and bias \n",
    "     \n",
    "    :returns\n",
    "     A2\n",
    "     cache\n",
    "    '''\n",
    "    W1 = parameters['W1']\n",
    "    b1 = parameters['b1']\n",
    "    W2 = parameters['W2']\n",
    "    b2 = parameters['b2']\n",
    "    \n",
    "    Z1 = np.dot(W1, X) + b1\n",
    "    A1 = Z1\n",
    "    Z2 = np.dot(W2, A1) + b2\n",
    "    A2 = 1/(1 + np.exp(-Z2))\n",
    "    cache = {\"Z1\": Z1,\"A1\": A1,\"Z2\": Z2,\"A2\": A2}\n",
    "    return A2, cache"
   ]
  },
  {
   "cell_type": "code",
   "execution_count": 5,
   "metadata": {},
   "outputs": [],
   "source": [
    "def cross_entropy_cost(A2, Y, parameters):\n",
    "    '''\n",
    "    compute the cross-entropy cost\n",
    "    \n",
    "    :params\n",
    "     A2\n",
    "     Y          : labels\n",
    "     parameters : weights and bias\n",
    "     \n",
    "    :returns\n",
    "     cost : cross entropy cost\n",
    "    '''\n",
    "    m = Y.shape[1] \n",
    "    logprobs = np.multiply(np.log(A2), Y) + np.multiply((1-Y), np.log(1 - A2))\n",
    "    \n",
    "    cost = - np.sum(logprobs) / m\n",
    "    cost = float(np.squeeze(cost))\n",
    "                                    \n",
    "    return cost"
   ]
  },
  {
   "cell_type": "code",
   "execution_count": 6,
   "metadata": {},
   "outputs": [],
   "source": [
    "def backward_propagation(parameters, cache, X, Y):\n",
    "    '''\n",
    "    calculate the gradient with respect to different parameters\n",
    "    \n",
    "    :params\n",
    "     parameters : weights and bias\n",
    "     cache      : cached parameters from forward propagation\n",
    "     X          : features\n",
    "     Y          : labels\n",
    "     \n",
    "    :returns\n",
    "     grads : gradients of the parameters\n",
    "    '''\n",
    "    m = X.shape[1]\n",
    "    \n",
    "    W1 = parameters['W1']\n",
    "    W2 = parameters['W2']\n",
    "    A1 = cache['A1']\n",
    "    A2 = cache['A2']\n",
    "   \n",
    "    dZ2 = A2-Y\n",
    "    dW2 = (1/m) * np.dot(dZ2, A1.T)\n",
    "    db2 = (1/m) * np.sum(dZ2, axis=1, keepdims=True)\n",
    "    dZ1 = np.multiply(np.dot(W2.T, dZ2), 1 - np.power(A1, 2))\n",
    "    dW1 = (1/m) * np.dot(dZ1, X.T) \n",
    "    db1 = (1/m)*np.sum(dZ1, axis=1, keepdims=True)\n",
    "    \n",
    "    grads = {\"dW1\": dW1, \"db1\": db1, \"dW2\": dW2,\"db2\": db2}\n",
    "    \n",
    "    return grads"
   ]
  },
  {
   "cell_type": "code",
   "execution_count": 7,
   "metadata": {},
   "outputs": [],
   "source": [
    "def gradient_descent(parameters, grads, learning_rate = 0.001):\n",
    "    '''\n",
    "    update the parameters using the gradient descent rule\n",
    "    \n",
    "    :param\n",
    "     parameters    : weights and bias\n",
    "     grads         : gradients obtained from back propagation\n",
    "     learning rate : rate of learning of the neural net\n",
    "     \n",
    "    :returns\n",
    "     parameters : updated weights and bias\n",
    "    '''\n",
    "    W1 = parameters['W1']\n",
    "    b1 = parameters['b1']\n",
    "    W2 = parameters['W2']\n",
    "    b2 = parameters['b2']\n",
    "   \n",
    "    dW1 = grads['dW1']\n",
    "    db1 = grads['db1']\n",
    "    dW2 = grads['dW2']\n",
    "    db2 = grads['db2']\n",
    "    W1 = W1 - learning_rate * dW1\n",
    "    b1 = b1 - learning_rate * db1\n",
    "    W2 = W2 - learning_rate * dW2\n",
    "    b2 = b2 - learning_rate * db2\n",
    "    \n",
    "    parameters = {\"W1\": W1, \"b1\": b1,\"W2\": W2,\"b2\": b2}\n",
    "    \n",
    "    return parameters"
   ]
  },
  {
   "cell_type": "code",
   "execution_count": 8,
   "metadata": {},
   "outputs": [],
   "source": [
    "def neural_network_model(X, Y, hidden_unit, num_iterations = 1000):\n",
    "    '''\n",
    "    build a neural network model with a single hidden layer\n",
    "    \n",
    "    :params\n",
    "     X              : features\n",
    "     Y              : labels\n",
    "     hidden_unit    : number of hidden units\n",
    "     num_iterations : number of iterations\n",
    "     \n",
    "    :returns\n",
    "     parameters : weights and bias after final iteration\n",
    "    '''\n",
    "    np.random.seed(3)\n",
    "    input_unit = define_structure_of_NN(X, Y)[0]\n",
    "    output_unit = define_structure_of_NN(X, Y)[2]\n",
    "    \n",
    "    parameters = parameter_initialization(input_unit, hidden_unit, output_unit)\n",
    "    \n",
    "    W1 = parameters['W1']\n",
    "    b1 = parameters['b1']\n",
    "    W2 = parameters['W2']\n",
    "    b2 = parameters['b2']\n",
    "    \n",
    "    for i in range(num_iterations):\n",
    "        A2, cache = forward_propagation(X, parameters)\n",
    "        cost = cross_entropy_cost(A2, Y, parameters)\n",
    "        grads = backward_propagation(parameters, cache, X, Y)\n",
    "        parameters = gradient_descent(parameters, grads)\n",
    "        if i % 5 == 0:\n",
    "            print(f'iteration: {i:>4d}, cross entropy cost: {cost:10.6f}')\n",
    "            \n",
    "    return parameters"
   ]
  },
  {
   "cell_type": "code",
   "execution_count": 9,
   "metadata": {},
   "outputs": [
    {
     "name": "stdout",
     "output_type": "stream",
     "text": [
      "Initial W11 :\n",
      " 1.0\n",
      "iteration:    0, cross entropy cost:   0.126928\n"
     ]
    }
   ],
   "source": [
    "X = np.array([[1],[0]])\n",
    "Y = np.array([1])\n",
    "Y = Y.reshape(1, Y.shape[0])\n",
    "\n",
    "parameters = neural_network_model(X, Y, 2, num_iterations=1)"
   ]
  },
  {
   "cell_type": "code",
   "execution_count": 10,
   "metadata": {},
   "outputs": [
    {
     "name": "stdout",
     "output_type": "stream",
     "text": [
      "Value of W11 after backpropagation : 1.0\n"
     ]
    }
   ],
   "source": [
    "print(\"Value of W11 after backpropagation :\",parameters[\"W1\"][0][0])"
   ]
  }
 ],
 "metadata": {
  "kernelspec": {
   "display_name": "Python 3",
   "language": "python",
   "name": "python3"
  },
  "language_info": {
   "codemirror_mode": {
    "name": "ipython",
    "version": 3
   },
   "file_extension": ".py",
   "mimetype": "text/x-python",
   "name": "python",
   "nbconvert_exporter": "python",
   "pygments_lexer": "ipython3",
   "version": "3.8.8"
  }
 },
 "nbformat": 4,
 "nbformat_minor": 4
}
