{
 "cells": [
  {
   "cell_type": "code",
   "execution_count": 1,
   "metadata": {},
   "outputs": [],
   "source": [
    "import numpy as np"
   ]
  },
  {
   "cell_type": "code",
   "execution_count": 2,
   "metadata": {},
   "outputs": [],
   "source": [
    "def aggregate_func(inputt):\n",
    "    '''\n",
    "    aggregate function\n",
    "    \n",
    "    :params\n",
    "     inputt : input\n",
    "    \n",
    "    :returns\n",
    "     sum of all inputs\n",
    "    '''\n",
    "    return np.sum(inputt)"
   ]
  },
  {
   "cell_type": "code",
   "execution_count": 3,
   "metadata": {},
   "outputs": [],
   "source": [
    "def logical_and(inputt):\n",
    "    '''\n",
    "    calculates logical AND\n",
    "    \n",
    "    :params\n",
    "     inputt : input\n",
    "     \n",
    "    :returns\n",
    "     resultant logical AND\n",
    "    '''\n",
    "    num_ele = inputt.shape[0]\n",
    "    agg = aggregate_func(inputt)\n",
    "    \n",
    "    if agg == num_ele:\n",
    "        return np.array([1])\n",
    "    return np.array([0])"
   ]
  },
  {
   "cell_type": "code",
   "execution_count": 4,
   "metadata": {},
   "outputs": [],
   "source": [
    "def logical_or(inputt):\n",
    "    '''\n",
    "    calculates logical OR\n",
    "    \n",
    "    :params\n",
    "     inputt : input\n",
    "     \n",
    "    :returns\n",
    "     resultant logical OR\n",
    "    '''\n",
    "    agg = aggregate_func(inputt)\n",
    "    if agg > 0:\n",
    "        return np.array([1])\n",
    "    return np.array([0])"
   ]
  },
  {
   "cell_type": "code",
   "execution_count": 5,
   "metadata": {},
   "outputs": [],
   "source": [
    "def logical_not(inputt):\n",
    "    '''\n",
    "    calculates logical NOT\n",
    "    \n",
    "    :params\n",
    "     inputt : input\n",
    "     \n",
    "    :returns\n",
    "     resultant logical NOT\n",
    "    '''\n",
    "    agg = inputt[0]\n",
    "    if agg == 0:\n",
    "        return np.array([1])\n",
    "    return np.array([0])"
   ]
  },
  {
   "cell_type": "code",
   "execution_count": 6,
   "metadata": {},
   "outputs": [],
   "source": [
    "def logical_nor(inputt):\n",
    "    '''\n",
    "    calculates logical NOT\n",
    "    \n",
    "    :params\n",
    "     inputt : input\n",
    "     \n",
    "    :returns\n",
    "     resultant logical NOR\n",
    "    '''\n",
    "    agg = aggregate_func(inputt)\n",
    "    if agg == 0:\n",
    "        return np.array([1])\n",
    "    return np.array([0])"
   ]
  },
  {
   "cell_type": "code",
   "execution_count": 7,
   "metadata": {},
   "outputs": [],
   "source": [
    "def get_num_features(operation=None):\n",
    "    '''\n",
    "    get features\n",
    "    \n",
    "    :params\n",
    "     operations : type of operatoin to be performed\n",
    "    \n",
    "    :returns\n",
    "     number of features\n",
    "    '''\n",
    "    if operation == 'NOT':\n",
    "        return 1\n",
    "    features = input(\"Enter number of features : \")\n",
    "    features = int(features)\n",
    "    \n",
    "    if features > 1:\n",
    "        return features\n",
    "    else:\n",
    "        raise ValueError(\"Invalid value for number of features\")"
   ]
  },
  {
   "cell_type": "code",
   "execution_count": 8,
   "metadata": {},
   "outputs": [],
   "source": [
    "def driver_func():\n",
    "    '''\n",
    "    driver fuction of the program\n",
    "    '''\n",
    "    \n",
    "    \n",
    "    features = get_num_features()\n",
    "    \n",
    "    inputt = np.random.randint(2, size = (features))\n",
    "    print(\"Input : \",inputt)\n",
    "    \n",
    "    print(\"\\nLogical AND : \",logical_and(inputt))\n",
    "    print(\"Logical OR  : \",logical_or(inputt))\n",
    "    print(\"Logical NOR : \",logical_nor(inputt))\n",
    "    \n",
    "    features = get_num_features('NOT')\n",
    "    \n",
    "    inputt = np.random.randint(2, size = (features))\n",
    "    print(\"\\nInput : \",inputt)\n",
    "    print(\"Logical NOT : \",logical_nor(inputt))"
   ]
  },
  {
   "cell_type": "code",
   "execution_count": 9,
   "metadata": {},
   "outputs": [
    {
     "name": "stdin",
     "output_type": "stream",
     "text": [
      "Enter number of features :  10\n"
     ]
    },
    {
     "name": "stdout",
     "output_type": "stream",
     "text": [
      "Input :  [1 1 0 1 1 0 0 1 1 1]\n",
      "\n",
      "Logical AND :  [0]\n",
      "Logical OR  :  [1]\n",
      "Logical NOR :  [0]\n",
      "\n",
      "Input :  [0]\n",
      "Logical NOT :  [1]\n"
     ]
    }
   ],
   "source": [
    "driver_func()"
   ]
  },
  {
   "cell_type": "code",
   "execution_count": null,
   "metadata": {},
   "outputs": [],
   "source": []
  }
 ],
 "metadata": {
  "kernelspec": {
   "display_name": "Python 3",
   "language": "python",
   "name": "python3"
  },
  "language_info": {
   "codemirror_mode": {
    "name": "ipython",
    "version": 3
   },
   "file_extension": ".py",
   "mimetype": "text/x-python",
   "name": "python",
   "nbconvert_exporter": "python",
   "pygments_lexer": "ipython3",
   "version": "3.8.8"
  },
  "metadata": {
   "interpreter": {
    "hash": "6c0788bf466bc8cb1fbb18760131c7f895927f5b29c4330188bf7cf65ee6f4e5"
   }
  }
 },
 "nbformat": 4,
 "nbformat_minor": 4
}
